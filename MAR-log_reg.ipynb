{
 "cells": [
  {
   "cell_type": "code",
   "execution_count": 85,
   "metadata": {},
   "outputs": [
    {
     "name": "stdout",
     "output_type": "stream",
     "text": [
      "The autoreload extension is already loaded. To reload it, use:\n",
      "  %reload_ext autoreload\n"
     ]
    }
   ],
   "source": [
    "%load_ext autoreload\n",
    "%autoreload 2\n",
    "%matplotlib widget"
   ]
  },
  {
   "cell_type": "code",
   "execution_count": 86,
   "metadata": {},
   "outputs": [],
   "source": [
    "import scipy\n",
    "from scipy.special import expit\n",
    "from generate_data import get_sampler, get_missing_data_sample\n",
    "from missing_data import add_cumulative_estimators, mean_estimator_plotter, get_mean_estimators, eval_estimators\n",
    "from numpy.random import default_rng\n",
    "import seaborn as sns\n",
    "#sns.set_theme()\n",
    "import numpy as np\n",
    "import pandas as pd\n",
    "import scipy\n",
    "import matplotlib.pyplot as plt"
   ]
  },
  {
   "cell_type": "code",
   "execution_count": 87,
   "metadata": {},
   "outputs": [],
   "source": [
    "# Distribution parameters\n",
    "sigma = 1\n",
    "sample_size = 1000"
   ]
  },
  {
   "cell_type": "code",
   "execution_count": 105,
   "metadata": {},
   "outputs": [
    {
     "data": {
      "application/vnd.jupyter.widget-view+json": {
       "model_id": "a4652e645e824794aa50baf3b3ca692c",
       "version_major": 2,
       "version_minor": 0
      },
      "text/plain": [
       "Canvas(toolbar=Toolbar(toolitems=[('Home', 'Reset original view', 'home', 'home'), ('Back', 'Back to previous …"
      ]
     },
     "metadata": {},
     "output_type": "display_data"
    },
    {
     "data": {
      "text/plain": [
       "<seaborn.axisgrid.JointGrid at 0x1bc839edb20>"
      ]
     },
     "execution_count": 105,
     "metadata": {},
     "output_type": "execute_result"
    }
   ],
   "source": [
    "random_seed = 1000\n",
    "r = default_rng(random_seed)\n",
    "sampler = get_sampler(dist=\"SeaVan1\", sigma=sigma)\n",
    "d = sampler(sample_size)\n",
    "sns.jointplot(data=d, x=\"x\", y=\"y\", kind=\"reg\",x_jitter=.1, scatter_kws={\"s\": 1})"
   ]
  },
  {
   "cell_type": "code",
   "execution_count": 106,
   "metadata": {},
   "outputs": [
    {
     "data": {
      "text/html": [
       "<div>\n",
       "<style scoped>\n",
       "    .dataframe tbody tr th:only-of-type {\n",
       "        vertical-align: middle;\n",
       "    }\n",
       "\n",
       "    .dataframe tbody tr th {\n",
       "        vertical-align: top;\n",
       "    }\n",
       "\n",
       "    .dataframe thead th {\n",
       "        text-align: right;\n",
       "    }\n",
       "</style>\n",
       "<table border=\"1\" class=\"dataframe\">\n",
       "  <thead>\n",
       "    <tr style=\"text-align: right;\">\n",
       "      <th></th>\n",
       "      <th>x</th>\n",
       "      <th>obs_prob</th>\n",
       "      <th>obs</th>\n",
       "      <th>y</th>\n",
       "      <th>obs_prob_pred</th>\n",
       "    </tr>\n",
       "  </thead>\n",
       "  <tbody>\n",
       "    <tr>\n",
       "      <th>0</th>\n",
       "      <td>1</td>\n",
       "      <td>0.500000</td>\n",
       "      <td>True</td>\n",
       "      <td>1.791703</td>\n",
       "      <td>0.519540</td>\n",
       "    </tr>\n",
       "    <tr>\n",
       "      <th>1</th>\n",
       "      <td>2</td>\n",
       "      <td>0.017986</td>\n",
       "      <td>False</td>\n",
       "      <td>2.370951</td>\n",
       "      <td>0.027245</td>\n",
       "    </tr>\n",
       "    <tr>\n",
       "      <th>2</th>\n",
       "      <td>2</td>\n",
       "      <td>0.017986</td>\n",
       "      <td>False</td>\n",
       "      <td>3.255922</td>\n",
       "      <td>0.027245</td>\n",
       "    </tr>\n",
       "    <tr>\n",
       "      <th>3</th>\n",
       "      <td>0</td>\n",
       "      <td>0.982014</td>\n",
       "      <td>True</td>\n",
       "      <td>1.171458</td>\n",
       "      <td>0.976607</td>\n",
       "    </tr>\n",
       "    <tr>\n",
       "      <th>4</th>\n",
       "      <td>0</td>\n",
       "      <td>0.982014</td>\n",
       "      <td>True</td>\n",
       "      <td>-1.620135</td>\n",
       "      <td>0.976607</td>\n",
       "    </tr>\n",
       "    <tr>\n",
       "      <th>...</th>\n",
       "      <td>...</td>\n",
       "      <td>...</td>\n",
       "      <td>...</td>\n",
       "      <td>...</td>\n",
       "      <td>...</td>\n",
       "    </tr>\n",
       "    <tr>\n",
       "      <th>995</th>\n",
       "      <td>1</td>\n",
       "      <td>0.500000</td>\n",
       "      <td>True</td>\n",
       "      <td>1.068853</td>\n",
       "      <td>0.519540</td>\n",
       "    </tr>\n",
       "    <tr>\n",
       "      <th>996</th>\n",
       "      <td>0</td>\n",
       "      <td>0.982014</td>\n",
       "      <td>True</td>\n",
       "      <td>0.872937</td>\n",
       "      <td>0.976607</td>\n",
       "    </tr>\n",
       "    <tr>\n",
       "      <th>997</th>\n",
       "      <td>2</td>\n",
       "      <td>0.017986</td>\n",
       "      <td>False</td>\n",
       "      <td>1.335519</td>\n",
       "      <td>0.027245</td>\n",
       "    </tr>\n",
       "    <tr>\n",
       "      <th>998</th>\n",
       "      <td>2</td>\n",
       "      <td>0.017986</td>\n",
       "      <td>False</td>\n",
       "      <td>3.149841</td>\n",
       "      <td>0.027245</td>\n",
       "    </tr>\n",
       "    <tr>\n",
       "      <th>999</th>\n",
       "      <td>1</td>\n",
       "      <td>0.500000</td>\n",
       "      <td>True</td>\n",
       "      <td>0.521810</td>\n",
       "      <td>0.519540</td>\n",
       "    </tr>\n",
       "  </tbody>\n",
       "</table>\n",
       "<p>1000 rows × 5 columns</p>\n",
       "</div>"
      ],
      "text/plain": [
       "     x  obs_prob    obs         y  obs_prob_pred\n",
       "0    1  0.500000   True  1.791703       0.519540\n",
       "1    2  0.017986  False  2.370951       0.027245\n",
       "2    2  0.017986  False  3.255922       0.027245\n",
       "3    0  0.982014   True  1.171458       0.976607\n",
       "4    0  0.982014   True -1.620135       0.976607\n",
       "..  ..       ...    ...       ...            ...\n",
       "995  1  0.500000   True  1.068853       0.519540\n",
       "996  0  0.982014   True  0.872937       0.976607\n",
       "997  2  0.017986  False  1.335519       0.027245\n",
       "998  2  0.017986  False  3.149841       0.027245\n",
       "999  1  0.500000   True  0.521810       0.519540\n",
       "\n",
       "[1000 rows x 5 columns]"
      ]
     },
     "execution_count": 106,
     "metadata": {},
     "output_type": "execute_result"
    }
   ],
   "source": [
    "d"
   ]
  },
  {
   "cell_type": "markdown",
   "metadata": {},
   "source": [
    "A sample from the data generating distribution is plotted above. (The x values in the scatter plot are jittered so it's easier to see the distribution.) Our objective is to estimate the average value of y for this dataset. Unfortunately, we only get a biased sample. When obs is true, we observe x and y, but when obs is false, we only observe x. Below is a plot of the observed data:"
   ]
  },
  {
   "cell_type": "code",
   "execution_count": 90,
   "metadata": {},
   "outputs": [
    {
     "data": {
      "application/vnd.jupyter.widget-view+json": {
       "model_id": "c5ab766119a14fd0aee57f2bab0d1281",
       "version_major": 2,
       "version_minor": 0
      },
      "text/plain": [
       "Canvas(toolbar=Toolbar(toolitems=[('Home', 'Reset original view', 'home', 'home'), ('Back', 'Back to previous …"
      ]
     },
     "metadata": {},
     "output_type": "display_data"
    },
    {
     "data": {
      "text/plain": [
       "<seaborn.axisgrid.JointGrid at 0x1bc806a3850>"
      ]
     },
     "execution_count": 90,
     "metadata": {},
     "output_type": "execute_result"
    }
   ],
   "source": [
    "sns.jointplot(data=d[d[\"obs\"]], x=\"x\", y=\"y\", kind=\"reg\",x_jitter=.1, scatter_kws={\"s\": 1})"
   ]
  },
  {
   "cell_type": "markdown",
   "metadata": {},
   "source": [
    "Below we take a large sample to get a good estimate of the true population mean:"
   ]
  },
  {
   "cell_type": "code",
   "execution_count": 91,
   "metadata": {},
   "outputs": [
    {
     "name": "stdout",
     "output_type": "stream",
     "text": [
      "Mean of all y's from sample of size 10000000: 1.0006397361041992 \n"
     ]
    }
   ],
   "source": [
    "d_big = sampler(n=10000000)\n",
    "seavan1_full_data_mean = np.mean(d_big['y'])\n",
    "print(f\"Mean of all y's from sample of size {d_big.shape[0]}: {seavan1_full_data_mean} \")"
   ]
  },
  {
   "cell_type": "markdown",
   "metadata": {},
   "source": [
    "If we naively take the mean of the observed y's, we get a heavily biased estimate:"
   ]
  },
  {
   "cell_type": "code",
   "execution_count": 92,
   "metadata": {},
   "outputs": [
    {
     "name": "stdout",
     "output_type": "stream",
     "text": [
      "Mean of all _observed_ y's from sample of size 1000: 0.3223935079515721 \n"
     ]
    }
   ],
   "source": [
    "obs_mean = np.mean(d[d[\"obs\"]]['y'])\n",
    "print(f\"Mean of all _observed_ y's from sample of size {d.shape[0]}: {obs_mean} \")"
   ]
  },
  {
   "cell_type": "markdown",
   "metadata": {},
   "source": [
    "Now we'll generate some other estimators and see how they do."
   ]
  },
  {
   "cell_type": "code",
   "execution_count": 107,
   "metadata": {},
   "outputs": [
    {
     "data": {
      "application/vnd.jupyter.widget-view+json": {
       "model_id": "d8225cf1534c470a9917be7572c748bb",
       "version_major": 2,
       "version_minor": 0
      },
      "text/plain": [
       "Canvas(toolbar=Toolbar(toolitems=[('Home', 'Reset original view', 'home', 'home'), ('Back', 'Back to previous …"
      ]
     },
     "metadata": {},
     "output_type": "display_data"
    },
    {
     "data": {
      "text/plain": [
       "<matplotlib.axes._subplots.AxesSubplot at 0x1bc83e54190>"
      ]
     },
     "execution_count": 107,
     "metadata": {},
     "output_type": "execute_result"
    }
   ],
   "source": [
    "sampler = get_sampler(dist=\"SeaVan1\", sigma=sigma, rng = default_rng(1000))\n",
    "d = sampler(sample_size)\n",
    "d = add_cumulative_estimators(d)\n",
    "fig, axs = plt.subplots(2,1, sharex='col')\n",
    "mean_estimator_plotter(d=d, id_col=\"n\", value_cols=[\"ipw_est\"], \n",
    "                       true_mean=seavan1_full_data_mean, include_scatter=False, \n",
    "                       param_dict={\"markers\":False}, ax=axs[0])\n",
    "\n",
    "sns.scatterplot(data=d[d[\"obs\"]], x=\"n\", y=\"y\", hue = \"obs_prob\", size=\"weight\", ax=axs[1], sizes=(3, 100), legend=False) #"
   ]
  },
  {
   "cell_type": "code",
   "execution_count": 108,
   "metadata": {},
   "outputs": [
    {
     "data": {
      "text/html": [
       "<div>\n",
       "<style scoped>\n",
       "    .dataframe tbody tr th:only-of-type {\n",
       "        vertical-align: middle;\n",
       "    }\n",
       "\n",
       "    .dataframe tbody tr th {\n",
       "        vertical-align: top;\n",
       "    }\n",
       "\n",
       "    .dataframe thead th {\n",
       "        text-align: right;\n",
       "    }\n",
       "</style>\n",
       "<table border=\"1\" class=\"dataframe\">\n",
       "  <thead>\n",
       "    <tr style=\"text-align: right;\">\n",
       "      <th></th>\n",
       "      <th>x</th>\n",
       "      <th>obs_prob</th>\n",
       "      <th>obs</th>\n",
       "      <th>y</th>\n",
       "      <th>obs_prob_pred</th>\n",
       "      <th>n</th>\n",
       "      <th>cum_obs_cnt</th>\n",
       "      <th>cum_obs_val</th>\n",
       "      <th>obs_mean</th>\n",
       "      <th>weight</th>\n",
       "      <th>cum_obs_weight</th>\n",
       "      <th>cum_obs_weighted_y</th>\n",
       "      <th>ipw_est</th>\n",
       "      <th>ipw_est_b</th>\n",
       "      <th>ipw_est_b_b</th>\n",
       "      <th>ipw_est_b3</th>\n",
       "    </tr>\n",
       "  </thead>\n",
       "  <tbody>\n",
       "    <tr>\n",
       "      <th>0</th>\n",
       "      <td>0</td>\n",
       "      <td>0.982014</td>\n",
       "      <td>True</td>\n",
       "      <td>3.243483</td>\n",
       "      <td>0.978823</td>\n",
       "      <td>1</td>\n",
       "      <td>1</td>\n",
       "      <td>3.243483</td>\n",
       "      <td>3.243483</td>\n",
       "      <td>1.021635</td>\n",
       "      <td>1.021635</td>\n",
       "      <td>3.313655</td>\n",
       "      <td>3.313655</td>\n",
       "      <td>3.243483</td>\n",
       "      <td>3.174797</td>\n",
       "      <td>3.107565</td>\n",
       "    </tr>\n",
       "    <tr>\n",
       "      <th>1</th>\n",
       "      <td>1</td>\n",
       "      <td>0.500000</td>\n",
       "      <td>False</td>\n",
       "      <td>0.167638</td>\n",
       "      <td>0.514341</td>\n",
       "      <td>2</td>\n",
       "      <td>1</td>\n",
       "      <td>3.243483</td>\n",
       "      <td>3.243483</td>\n",
       "      <td>1.944235</td>\n",
       "      <td>1.021635</td>\n",
       "      <td>3.313655</td>\n",
       "      <td>1.656827</td>\n",
       "      <td>3.243483</td>\n",
       "      <td>6.349593</td>\n",
       "      <td>12.430261</td>\n",
       "    </tr>\n",
       "    <tr>\n",
       "      <th>2</th>\n",
       "      <td>2</td>\n",
       "      <td>0.017986</td>\n",
       "      <td>False</td>\n",
       "      <td>1.911987</td>\n",
       "      <td>0.023691</td>\n",
       "      <td>3</td>\n",
       "      <td>1</td>\n",
       "      <td>3.243483</td>\n",
       "      <td>3.243483</td>\n",
       "      <td>42.210552</td>\n",
       "      <td>1.021635</td>\n",
       "      <td>3.313655</td>\n",
       "      <td>1.104552</td>\n",
       "      <td>3.243483</td>\n",
       "      <td>9.524390</td>\n",
       "      <td>27.968087</td>\n",
       "    </tr>\n",
       "    <tr>\n",
       "      <th>3</th>\n",
       "      <td>1</td>\n",
       "      <td>0.500000</td>\n",
       "      <td>False</td>\n",
       "      <td>0.097804</td>\n",
       "      <td>0.514341</td>\n",
       "      <td>4</td>\n",
       "      <td>1</td>\n",
       "      <td>3.243483</td>\n",
       "      <td>3.243483</td>\n",
       "      <td>1.944235</td>\n",
       "      <td>1.021635</td>\n",
       "      <td>3.313655</td>\n",
       "      <td>0.828414</td>\n",
       "      <td>3.243483</td>\n",
       "      <td>12.699187</td>\n",
       "      <td>49.721044</td>\n",
       "    </tr>\n",
       "    <tr>\n",
       "      <th>4</th>\n",
       "      <td>2</td>\n",
       "      <td>0.017986</td>\n",
       "      <td>False</td>\n",
       "      <td>1.445201</td>\n",
       "      <td>0.023691</td>\n",
       "      <td>5</td>\n",
       "      <td>1</td>\n",
       "      <td>3.243483</td>\n",
       "      <td>3.243483</td>\n",
       "      <td>42.210552</td>\n",
       "      <td>1.021635</td>\n",
       "      <td>3.313655</td>\n",
       "      <td>0.662731</td>\n",
       "      <td>3.243483</td>\n",
       "      <td>15.873983</td>\n",
       "      <td>77.689132</td>\n",
       "    </tr>\n",
       "    <tr>\n",
       "      <th>...</th>\n",
       "      <td>...</td>\n",
       "      <td>...</td>\n",
       "      <td>...</td>\n",
       "      <td>...</td>\n",
       "      <td>...</td>\n",
       "      <td>...</td>\n",
       "      <td>...</td>\n",
       "      <td>...</td>\n",
       "      <td>...</td>\n",
       "      <td>...</td>\n",
       "      <td>...</td>\n",
       "      <td>...</td>\n",
       "      <td>...</td>\n",
       "      <td>...</td>\n",
       "      <td>...</td>\n",
       "      <td>...</td>\n",
       "    </tr>\n",
       "    <tr>\n",
       "      <th>995</th>\n",
       "      <td>1</td>\n",
       "      <td>0.500000</td>\n",
       "      <td>True</td>\n",
       "      <td>2.186609</td>\n",
       "      <td>0.514341</td>\n",
       "      <td>996</td>\n",
       "      <td>498</td>\n",
       "      <td>177.941570</td>\n",
       "      <td>0.357312</td>\n",
       "      <td>1.944235</td>\n",
       "      <td>956.706424</td>\n",
       "      <td>1023.398684</td>\n",
       "      <td>1.027509</td>\n",
       "      <td>1.069710</td>\n",
       "      <td>1.113645</td>\n",
       "      <td>1.159384</td>\n",
       "    </tr>\n",
       "    <tr>\n",
       "      <th>996</th>\n",
       "      <td>1</td>\n",
       "      <td>0.500000</td>\n",
       "      <td>False</td>\n",
       "      <td>0.475430</td>\n",
       "      <td>0.514341</td>\n",
       "      <td>997</td>\n",
       "      <td>498</td>\n",
       "      <td>177.941570</td>\n",
       "      <td>0.357312</td>\n",
       "      <td>1.944235</td>\n",
       "      <td>956.706424</td>\n",
       "      <td>1023.398684</td>\n",
       "      <td>1.026478</td>\n",
       "      <td>1.069710</td>\n",
       "      <td>1.114763</td>\n",
       "      <td>1.161714</td>\n",
       "    </tr>\n",
       "    <tr>\n",
       "      <th>997</th>\n",
       "      <td>0</td>\n",
       "      <td>0.982014</td>\n",
       "      <td>True</td>\n",
       "      <td>-0.937456</td>\n",
       "      <td>0.978823</td>\n",
       "      <td>998</td>\n",
       "      <td>499</td>\n",
       "      <td>177.004115</td>\n",
       "      <td>0.354718</td>\n",
       "      <td>1.021635</td>\n",
       "      <td>957.728059</td>\n",
       "      <td>1022.440947</td>\n",
       "      <td>1.024490</td>\n",
       "      <td>1.067569</td>\n",
       "      <td>1.112460</td>\n",
       "      <td>1.159238</td>\n",
       "    </tr>\n",
       "    <tr>\n",
       "      <th>998</th>\n",
       "      <td>1</td>\n",
       "      <td>0.500000</td>\n",
       "      <td>True</td>\n",
       "      <td>1.812067</td>\n",
       "      <td>0.514341</td>\n",
       "      <td>999</td>\n",
       "      <td>500</td>\n",
       "      <td>178.816182</td>\n",
       "      <td>0.357632</td>\n",
       "      <td>1.944235</td>\n",
       "      <td>959.672294</td>\n",
       "      <td>1025.964032</td>\n",
       "      <td>1.026991</td>\n",
       "      <td>1.069077</td>\n",
       "      <td>1.112889</td>\n",
       "      <td>1.158495</td>\n",
       "    </tr>\n",
       "    <tr>\n",
       "      <th>999</th>\n",
       "      <td>2</td>\n",
       "      <td>0.017986</td>\n",
       "      <td>False</td>\n",
       "      <td>-0.139730</td>\n",
       "      <td>0.023691</td>\n",
       "      <td>1000</td>\n",
       "      <td>500</td>\n",
       "      <td>178.816182</td>\n",
       "      <td>0.357632</td>\n",
       "      <td>42.210552</td>\n",
       "      <td>959.672294</td>\n",
       "      <td>1025.964032</td>\n",
       "      <td>1.025964</td>\n",
       "      <td>1.069077</td>\n",
       "      <td>1.114003</td>\n",
       "      <td>1.160816</td>\n",
       "    </tr>\n",
       "  </tbody>\n",
       "</table>\n",
       "<p>1000 rows × 16 columns</p>\n",
       "</div>"
      ],
      "text/plain": [
       "     x  obs_prob    obs         y  obs_prob_pred     n  cum_obs_cnt  \\\n",
       "0    0  0.982014   True  3.243483       0.978823     1            1   \n",
       "1    1  0.500000  False  0.167638       0.514341     2            1   \n",
       "2    2  0.017986  False  1.911987       0.023691     3            1   \n",
       "3    1  0.500000  False  0.097804       0.514341     4            1   \n",
       "4    2  0.017986  False  1.445201       0.023691     5            1   \n",
       "..  ..       ...    ...       ...            ...   ...          ...   \n",
       "995  1  0.500000   True  2.186609       0.514341   996          498   \n",
       "996  1  0.500000  False  0.475430       0.514341   997          498   \n",
       "997  0  0.982014   True -0.937456       0.978823   998          499   \n",
       "998  1  0.500000   True  1.812067       0.514341   999          500   \n",
       "999  2  0.017986  False -0.139730       0.023691  1000          500   \n",
       "\n",
       "     cum_obs_val  obs_mean     weight  cum_obs_weight  cum_obs_weighted_y  \\\n",
       "0       3.243483  3.243483   1.021635        1.021635            3.313655   \n",
       "1       3.243483  3.243483   1.944235        1.021635            3.313655   \n",
       "2       3.243483  3.243483  42.210552        1.021635            3.313655   \n",
       "3       3.243483  3.243483   1.944235        1.021635            3.313655   \n",
       "4       3.243483  3.243483  42.210552        1.021635            3.313655   \n",
       "..           ...       ...        ...             ...                 ...   \n",
       "995   177.941570  0.357312   1.944235      956.706424         1023.398684   \n",
       "996   177.941570  0.357312   1.944235      956.706424         1023.398684   \n",
       "997   177.004115  0.354718   1.021635      957.728059         1022.440947   \n",
       "998   178.816182  0.357632   1.944235      959.672294         1025.964032   \n",
       "999   178.816182  0.357632  42.210552      959.672294         1025.964032   \n",
       "\n",
       "      ipw_est  ipw_est_b  ipw_est_b_b  ipw_est_b3  \n",
       "0    3.313655   3.243483     3.174797    3.107565  \n",
       "1    1.656827   3.243483     6.349593   12.430261  \n",
       "2    1.104552   3.243483     9.524390   27.968087  \n",
       "3    0.828414   3.243483    12.699187   49.721044  \n",
       "4    0.662731   3.243483    15.873983   77.689132  \n",
       "..        ...        ...          ...         ...  \n",
       "995  1.027509   1.069710     1.113645    1.159384  \n",
       "996  1.026478   1.069710     1.114763    1.161714  \n",
       "997  1.024490   1.067569     1.112460    1.159238  \n",
       "998  1.026991   1.069077     1.112889    1.158495  \n",
       "999  1.025964   1.069077     1.114003    1.160816  \n",
       "\n",
       "[1000 rows x 16 columns]"
      ]
     },
     "execution_count": 108,
     "metadata": {},
     "output_type": "execute_result"
    }
   ],
   "source": [
    "d"
   ]
  },
  {
   "cell_type": "code",
   "execution_count": 109,
   "metadata": {},
   "outputs": [
    {
     "data": {
      "application/vnd.jupyter.widget-view+json": {
       "model_id": "45b6276c38464257b91577cd13ab2fd1",
       "version_major": 2,
       "version_minor": 0
      },
      "text/plain": [
       "Canvas(toolbar=Toolbar(toolitems=[('Home', 'Reset original view', 'home', 'home'), ('Back', 'Back to previous …"
      ]
     },
     "metadata": {},
     "output_type": "display_data"
    },
    {
     "data": {
      "text/plain": [
       "<matplotlib.axes._subplots.AxesSubplot at 0x1bc83eb0070>"
      ]
     },
     "execution_count": 109,
     "metadata": {},
     "output_type": "execute_result"
    }
   ],
   "source": [
    "fig, axs = plt.subplots(2,1, sharex='col')\n",
    "mean_estimator_plotter(d=d, id_col=\"n\", value_cols=[\"ipw_est\", \"ipw_est_b\"], \n",
    "                       true_mean=seavan1_full_data_mean, include_scatter=False, \n",
    "                       param_dict={\"markers\":False}, ax=axs[0])\n",
    "\n",
    "sns.scatterplot(data=d[d[\"obs\"]], x=\"n\", y=\"y\", hue = \"obs_prob\", size=\"weight\", \n",
    "                ax=axs[1], sizes=(3, 100), legend=False) #"
   ]
  },
  {
   "cell_type": "code",
   "execution_count": 112,
   "metadata": {},
   "outputs": [],
   "source": [
    "sampler = get_sampler(dist=\"SeaVan1\", sigma=sigma, rng = default_rng(5))\n",
    "num_repeats = 5000  #use 5000 for better SEs\n",
    "data_list = []\n",
    "num_obs_list = []\n",
    "for i in range(num_repeats):\n",
    "    ## Randomly choose observations\n",
    "    d = sampler(n=sample_size)\n",
    "    est = get_mean_estimators(vals=d['y'],\n",
    "                              covar=d[[\"x\"]],\n",
    "                              propensities=d[\"obs_prob_pred\"],\n",
    "                              obs=d['obs'])\n",
    "    data_list.append(est)\n",
    "    num_obs_list.append(d['obs'].sum())\n",
    "results_seavan1 = pd.DataFrame(data_list)"
   ]
  },
  {
   "cell_type": "code",
   "execution_count": 113,
   "metadata": {},
   "outputs": [
    {
     "data": {
      "text/html": [
       "<div>\n",
       "<style scoped>\n",
       "    .dataframe tbody tr th:only-of-type {\n",
       "        vertical-align: middle;\n",
       "    }\n",
       "\n",
       "    .dataframe tbody tr th {\n",
       "        vertical-align: top;\n",
       "    }\n",
       "\n",
       "    .dataframe thead th {\n",
       "        text-align: right;\n",
       "    }\n",
       "</style>\n",
       "<table border=\"1\" class=\"dataframe\">\n",
       "  <thead>\n",
       "    <tr style=\"text-align: right;\">\n",
       "      <th></th>\n",
       "      <th>obs_mean</th>\n",
       "      <th>ipw_mean</th>\n",
       "      <th>ipw_b_mean</th>\n",
       "      <th>weight</th>\n",
       "      <th>ipw_b_b_mean</th>\n",
       "      <th>ipw_b3_mean</th>\n",
       "      <th>num_obs</th>\n",
       "      <th>impute_missing</th>\n",
       "      <th>impute_missing_w</th>\n",
       "      <th>ipw_dr_1</th>\n",
       "      <th>ipw_dr_w_1</th>\n",
       "      <th>ipw_dr_opt</th>\n",
       "      <th>ipw_dr_w_opt</th>\n",
       "      <th>ipw_dr_b</th>\n",
       "      <th>ipw_dr_w_b</th>\n",
       "    </tr>\n",
       "  </thead>\n",
       "  <tbody>\n",
       "    <tr>\n",
       "      <th>0</th>\n",
       "      <td>0.382735</td>\n",
       "      <td>0.963568</td>\n",
       "      <td>1.019375</td>\n",
       "      <td>945.253452</td>\n",
       "      <td>1.078415</td>\n",
       "      <td>1.140873</td>\n",
       "      <td>510</td>\n",
       "      <td>0.991868</td>\n",
       "      <td>1.090555</td>\n",
       "      <td>1.075735</td>\n",
       "      <td>1.090515</td>\n",
       "      <td>1.075735</td>\n",
       "      <td>1.090515</td>\n",
       "      <td>1.016843</td>\n",
       "      <td>1.030813</td>\n",
       "    </tr>\n",
       "    <tr>\n",
       "      <th>1</th>\n",
       "      <td>0.379395</td>\n",
       "      <td>0.711415</td>\n",
       "      <td>0.850950</td>\n",
       "      <td>836.024792</td>\n",
       "      <td>1.017853</td>\n",
       "      <td>1.217491</td>\n",
       "      <td>491</td>\n",
       "      <td>1.015611</td>\n",
       "      <td>1.056506</td>\n",
       "      <td>1.039222</td>\n",
       "      <td>1.056313</td>\n",
       "      <td>1.039222</td>\n",
       "      <td>1.056313</td>\n",
       "      <td>0.868815</td>\n",
       "      <td>0.883104</td>\n",
       "    </tr>\n",
       "    <tr>\n",
       "      <th>2</th>\n",
       "      <td>0.310570</td>\n",
       "      <td>0.784665</td>\n",
       "      <td>0.794219</td>\n",
       "      <td>987.970200</td>\n",
       "      <td>0.803890</td>\n",
       "      <td>0.813678</td>\n",
       "      <td>519</td>\n",
       "      <td>0.968681</td>\n",
       "      <td>0.804136</td>\n",
       "      <td>0.810697</td>\n",
       "      <td>0.805114</td>\n",
       "      <td>0.810697</td>\n",
       "      <td>0.805114</td>\n",
       "      <td>0.800945</td>\n",
       "      <td>0.795429</td>\n",
       "    </tr>\n",
       "    <tr>\n",
       "      <th>3</th>\n",
       "      <td>0.436423</td>\n",
       "      <td>0.959100</td>\n",
       "      <td>1.104992</td>\n",
       "      <td>867.970480</td>\n",
       "      <td>1.273075</td>\n",
       "      <td>1.466726</td>\n",
       "      <td>496</td>\n",
       "      <td>1.068824</td>\n",
       "      <td>1.330524</td>\n",
       "      <td>1.237644</td>\n",
       "      <td>1.329185</td>\n",
       "      <td>1.237644</td>\n",
       "      <td>1.329185</td>\n",
       "      <td>1.074239</td>\n",
       "      <td>1.153694</td>\n",
       "    </tr>\n",
       "    <tr>\n",
       "      <th>4</th>\n",
       "      <td>0.348406</td>\n",
       "      <td>0.667779</td>\n",
       "      <td>0.795934</td>\n",
       "      <td>838.988115</td>\n",
       "      <td>0.948683</td>\n",
       "      <td>1.130747</td>\n",
       "      <td>488</td>\n",
       "      <td>1.034246</td>\n",
       "      <td>0.989781</td>\n",
       "      <td>1.009083</td>\n",
       "      <td>0.990514</td>\n",
       "      <td>1.009083</td>\n",
       "      <td>0.990514</td>\n",
       "      <td>0.846608</td>\n",
       "      <td>0.831029</td>\n",
       "    </tr>\n",
       "    <tr>\n",
       "      <th>...</th>\n",
       "      <td>...</td>\n",
       "      <td>...</td>\n",
       "      <td>...</td>\n",
       "      <td>...</td>\n",
       "      <td>...</td>\n",
       "      <td>...</td>\n",
       "      <td>...</td>\n",
       "      <td>...</td>\n",
       "      <td>...</td>\n",
       "      <td>...</td>\n",
       "      <td>...</td>\n",
       "      <td>...</td>\n",
       "      <td>...</td>\n",
       "      <td>...</td>\n",
       "      <td>...</td>\n",
       "    </tr>\n",
       "    <tr>\n",
       "      <th>4995</th>\n",
       "      <td>0.369370</td>\n",
       "      <td>0.850506</td>\n",
       "      <td>0.916308</td>\n",
       "      <td>928.187463</td>\n",
       "      <td>0.987202</td>\n",
       "      <td>1.063580</td>\n",
       "      <td>505</td>\n",
       "      <td>0.995311</td>\n",
       "      <td>0.998259</td>\n",
       "      <td>0.997714</td>\n",
       "      <td>0.998281</td>\n",
       "      <td>0.997714</td>\n",
       "      <td>0.998281</td>\n",
       "      <td>0.926066</td>\n",
       "      <td>0.926592</td>\n",
       "    </tr>\n",
       "    <tr>\n",
       "      <th>4996</th>\n",
       "      <td>0.358421</td>\n",
       "      <td>0.898404</td>\n",
       "      <td>0.964907</td>\n",
       "      <td>931.078626</td>\n",
       "      <td>1.036333</td>\n",
       "      <td>1.113045</td>\n",
       "      <td>503</td>\n",
       "      <td>1.153003</td>\n",
       "      <td>1.048519</td>\n",
       "      <td>1.067374</td>\n",
       "      <td>1.048408</td>\n",
       "      <td>1.067374</td>\n",
       "      <td>1.048408</td>\n",
       "      <td>0.993809</td>\n",
       "      <td>0.976151</td>\n",
       "    </tr>\n",
       "    <tr>\n",
       "      <th>4997</th>\n",
       "      <td>0.457541</td>\n",
       "      <td>0.839753</td>\n",
       "      <td>0.882616</td>\n",
       "      <td>951.436465</td>\n",
       "      <td>0.927667</td>\n",
       "      <td>0.975017</td>\n",
       "      <td>510</td>\n",
       "      <td>1.026385</td>\n",
       "      <td>0.924646</td>\n",
       "      <td>0.937276</td>\n",
       "      <td>0.923834</td>\n",
       "      <td>0.937276</td>\n",
       "      <td>0.923834</td>\n",
       "      <td>0.891758</td>\n",
       "      <td>0.878969</td>\n",
       "    </tr>\n",
       "    <tr>\n",
       "      <th>4998</th>\n",
       "      <td>0.325026</td>\n",
       "      <td>0.451213</td>\n",
       "      <td>0.604415</td>\n",
       "      <td>746.529351</td>\n",
       "      <td>0.809633</td>\n",
       "      <td>1.084529</td>\n",
       "      <td>493</td>\n",
       "      <td>0.968133</td>\n",
       "      <td>0.919319</td>\n",
       "      <td>0.951092</td>\n",
       "      <td>0.919392</td>\n",
       "      <td>0.951092</td>\n",
       "      <td>0.919392</td>\n",
       "      <td>0.710018</td>\n",
       "      <td>0.686353</td>\n",
       "    </tr>\n",
       "    <tr>\n",
       "      <th>4999</th>\n",
       "      <td>0.308226</td>\n",
       "      <td>0.834061</td>\n",
       "      <td>0.898877</td>\n",
       "      <td>927.891987</td>\n",
       "      <td>0.968731</td>\n",
       "      <td>1.044012</td>\n",
       "      <td>500</td>\n",
       "      <td>0.972120</td>\n",
       "      <td>0.985060</td>\n",
       "      <td>0.982525</td>\n",
       "      <td>0.984989</td>\n",
       "      <td>0.982525</td>\n",
       "      <td>0.984989</td>\n",
       "      <td>0.911678</td>\n",
       "      <td>0.913964</td>\n",
       "    </tr>\n",
       "  </tbody>\n",
       "</table>\n",
       "<p>5000 rows × 15 columns</p>\n",
       "</div>"
      ],
      "text/plain": [
       "      obs_mean  ipw_mean  ipw_b_mean      weight  ipw_b_b_mean  ipw_b3_mean  \\\n",
       "0     0.382735  0.963568    1.019375  945.253452      1.078415     1.140873   \n",
       "1     0.379395  0.711415    0.850950  836.024792      1.017853     1.217491   \n",
       "2     0.310570  0.784665    0.794219  987.970200      0.803890     0.813678   \n",
       "3     0.436423  0.959100    1.104992  867.970480      1.273075     1.466726   \n",
       "4     0.348406  0.667779    0.795934  838.988115      0.948683     1.130747   \n",
       "...        ...       ...         ...         ...           ...          ...   \n",
       "4995  0.369370  0.850506    0.916308  928.187463      0.987202     1.063580   \n",
       "4996  0.358421  0.898404    0.964907  931.078626      1.036333     1.113045   \n",
       "4997  0.457541  0.839753    0.882616  951.436465      0.927667     0.975017   \n",
       "4998  0.325026  0.451213    0.604415  746.529351      0.809633     1.084529   \n",
       "4999  0.308226  0.834061    0.898877  927.891987      0.968731     1.044012   \n",
       "\n",
       "      num_obs  impute_missing  impute_missing_w  ipw_dr_1  ipw_dr_w_1  \\\n",
       "0         510        0.991868          1.090555  1.075735    1.090515   \n",
       "1         491        1.015611          1.056506  1.039222    1.056313   \n",
       "2         519        0.968681          0.804136  0.810697    0.805114   \n",
       "3         496        1.068824          1.330524  1.237644    1.329185   \n",
       "4         488        1.034246          0.989781  1.009083    0.990514   \n",
       "...       ...             ...               ...       ...         ...   \n",
       "4995      505        0.995311          0.998259  0.997714    0.998281   \n",
       "4996      503        1.153003          1.048519  1.067374    1.048408   \n",
       "4997      510        1.026385          0.924646  0.937276    0.923834   \n",
       "4998      493        0.968133          0.919319  0.951092    0.919392   \n",
       "4999      500        0.972120          0.985060  0.982525    0.984989   \n",
       "\n",
       "      ipw_dr_opt  ipw_dr_w_opt  ipw_dr_b  ipw_dr_w_b  \n",
       "0       1.075735      1.090515  1.016843    1.030813  \n",
       "1       1.039222      1.056313  0.868815    0.883104  \n",
       "2       0.810697      0.805114  0.800945    0.795429  \n",
       "3       1.237644      1.329185  1.074239    1.153694  \n",
       "4       1.009083      0.990514  0.846608    0.831029  \n",
       "...          ...           ...       ...         ...  \n",
       "4995    0.997714      0.998281  0.926066    0.926592  \n",
       "4996    1.067374      1.048408  0.993809    0.976151  \n",
       "4997    0.937276      0.923834  0.891758    0.878969  \n",
       "4998    0.951092      0.919392  0.710018    0.686353  \n",
       "4999    0.982525      0.984989  0.911678    0.913964  \n",
       "\n",
       "[5000 rows x 15 columns]"
      ]
     },
     "execution_count": 113,
     "metadata": {},
     "output_type": "execute_result"
    }
   ],
   "source": [
    "results_seavan1"
   ]
  },
  {
   "cell_type": "code",
   "execution_count": 114,
   "metadata": {},
   "outputs": [
    {
     "name": "stdout",
     "output_type": "stream",
     "text": [
      "r: 0.7738762097340914, p: 0.0\n"
     ]
    },
    {
     "data": {
      "application/vnd.jupyter.widget-view+json": {
       "model_id": "0f6447f4c67648829fab074bae5351d4",
       "version_major": 2,
       "version_minor": 0
      },
      "text/plain": [
       "Canvas(toolbar=Toolbar(toolitems=[('Home', 'Reset original view', 'home', 'home'), ('Back', 'Back to previous …"
      ]
     },
     "metadata": {},
     "output_type": "display_data"
    },
    {
     "name": "stdout",
     "output_type": "stream",
     "text": [
      "r: 0.5767898921072427, p: 0.0\n"
     ]
    },
    {
     "data": {
      "application/vnd.jupyter.widget-view+json": {
       "model_id": "0a950c46b4294a558a80c52b72486ebc",
       "version_major": 2,
       "version_minor": 0
      },
      "text/plain": [
       "Canvas(toolbar=Toolbar(toolitems=[('Home', 'Reset original view', 'home', 'home'), ('Back', 'Back to previous …"
      ]
     },
     "metadata": {},
     "output_type": "display_data"
    },
    {
     "name": "stdout",
     "output_type": "stream",
     "text": [
      "r: 0.17726255854974424, p: 1.4178025757107995e-36\n"
     ]
    },
    {
     "data": {
      "application/vnd.jupyter.widget-view+json": {
       "model_id": "d3d4f440e24d447eaf3d5bab78bbb326",
       "version_major": 2,
       "version_minor": 0
      },
      "text/plain": [
       "Canvas(toolbar=Toolbar(toolitems=[('Home', 'Reset original view', 'home', 'home'), ('Back', 'Back to previous …"
      ]
     },
     "metadata": {},
     "output_type": "display_data"
    },
    {
     "data": {
      "text/plain": [
       "<seaborn.axisgrid.JointGrid at 0x1bc845f0c10>"
      ]
     },
     "execution_count": 114,
     "metadata": {},
     "output_type": "execute_result"
    }
   ],
   "source": [
    "results = results_seavan1\n",
    "x_var, y_var = (\"weight\", \"ipw_mean\")\n",
    "r, p = scipy.stats.pearsonr(results[x_var], results[y_var])\n",
    "print(f\"r: {r}, p: {p}\")\n",
    "sns.jointplot(data=results, x=x_var, y=y_var, kind=\"reg\", x_jitter=0, scatter_kws={\"s\": 1})\n",
    "x_var, y_var = (\"weight\", \"ipw_b_mean\")\n",
    "r, p = scipy.stats.pearsonr(results[x_var], results[y_var])\n",
    "print(f\"r: {r}, p: {p}\")\n",
    "sns.jointplot(data=results, x=x_var, y=y_var, kind=\"reg\", x_jitter=0, scatter_kws={\"s\": 1})\n",
    "x_var, y_var = (\"weight\", \"ipw_b_b_mean\")\n",
    "r, p = scipy.stats.pearsonr(results[x_var], results[y_var])\n",
    "print(f\"r: {r}, p: {p}\")\n",
    "sns.jointplot(data=results, x=x_var, y=y_var, kind=\"reg\", x_jitter=0, scatter_kws={\"s\": 1})"
   ]
  },
  {
   "cell_type": "code",
   "execution_count": 116,
   "metadata": {},
   "outputs": [
    {
     "name": "stdout",
     "output_type": "stream",
     "text": [
      "              ipw_mean  ipw_b_mean\n",
      "mean          0.828959    0.897344\n",
      "SD            0.179947    0.151429\n",
      "SE            0.002545    0.002142\n",
      "bias         -0.171681   -0.103295\n",
      "mean_abs_err  0.205642    0.146551\n",
      "RMS error     0.248707    0.183305\n",
      "Mean number of observed y values: 499.9532 with SD: \n"
     ]
    }
   ],
   "source": [
    "results = results_seavan1\n",
    "estimators_to_keep = [\"ipw_mean\", \"ipw_b_mean\"]\n",
    "a = results[estimators_to_keep].apply(eval_estimators, axis=0, raw=True, result_type=\"expand\", \n",
    "                                      true_val=seavan1_full_data_mean)\n",
    "results_eval = pd.DataFrame(a.to_dict())\n",
    "print(results_eval)\n",
    "print(f\"Mean number of observed y values: {np.mean(num_obs_list)} with SD: \")"
   ]
  },
  {
   "cell_type": "markdown",
   "metadata": {},
   "source": [
    "To generate the table above, we repeated the following num_repeats times: 1) Get a sample of size sample_size from the distribution. 2) Evaluate estimators for the mean of y on this sample. The table then displays various summary statistics of the performance of these estimators across the num_repeats samples. Mean and SD are just the mean and SD of the estimate across the repeats. Our estimate of the expected value of the estimates are the mean and the SE is the uncertainty of that estimate. Bias is the difference between the true_mean and the mean of the estimators. The SE is also the uncertainty of this bias. (We've assumed that our estimate of the true mean has negligible error.) For each trial we compute the absolute and RMS difference between the estimate and the \"true mean\" (which itself was estimated, but from a large sample size)"
   ]
  },
  {
   "cell_type": "markdown",
   "metadata": {},
   "source": [
    "The bias is relatively small for both estimators, but the bias of ipw_mean is much less than 1 SE from 0, while ipw_b_mean is more than 2 SEs from 0. As expected, ipw_b_mean has a small but significant bias. For both estimators, the SD is more than 10x the bias, which is reflected in the RMS error being essentially equal to the SD for each estimator. The ipw_b_mean has significantly smaller SD."
   ]
  },
  {
   "cell_type": "code",
   "execution_count": 118,
   "metadata": {},
   "outputs": [
    {
     "name": "stdout",
     "output_type": "stream",
     "text": [
      "              ipw_mean  ipw_b_mean  ipw_b_b_mean\n",
      "mean          0.828959    0.897344      0.976601\n",
      "SD            0.179947    0.151429      0.137767\n",
      "SE            0.002545    0.002142      0.001948\n",
      "bias         -0.171681   -0.103295     -0.024039\n",
      "mean_abs_err  0.205642    0.146551      0.109778\n",
      "RMS error     0.248707    0.183305      0.139849\n",
      "Mean number of observed y values: 499.9532 with SD: \n"
     ]
    }
   ],
   "source": [
    "results = results_seavan1\n",
    "estimators_to_keep = [\"ipw_mean\", \"ipw_b_mean\", \"ipw_b_b_mean\"]\n",
    "a = results[estimators_to_keep].apply(eval_estimators, axis=0, raw=True, \n",
    "                                      result_type=\"expand\", true_val=seavan1_full_data_mean)\n",
    "results_eval = pd.DataFrame(a.to_dict())\n",
    "print(results_eval)\n",
    "print(f\"Mean number of observed y values: {np.mean(num_obs_list)} with SD: \")"
   ]
  },
  {
   "cell_type": "markdown",
   "metadata": {},
   "source": [
    "The twice self-normalized estimator has improved performance, presumably by removing the rest of the variation caused by correlation between the total weight and the estimate. More precisely, conditional on the total weight, the ipw and even the ipw_b estimators have a significant bias that is positively correlated with the weight. When we combine all these estimates together, the positive and negative biases inflate the overall variance of the estimator. I think the takeaway here is that there is no estimator that is \"best\" for all distributions. The ipw_b_b estimator happens to work quite well for this distribution, because even self-normalizing didn't review all of the correlation with the weight. But this isn't the case for other distributions."
   ]
  },
  {
   "cell_type": "markdown",
   "metadata": {},
   "source": [
    "We now consider a different kind of estimator: imputation estimators. The approach we consider here is to build a model for the expectation of Y given X, using the complete cases. Then impute the predictions for the incomplete cases. We then take the average of the Y's and imputed Y's, as though it were the full data set. For illustration, below we consider a linear fit of the data."
   ]
  },
  {
   "cell_type": "code",
   "execution_count": 119,
   "metadata": {},
   "outputs": [
    {
     "name": "stdout",
     "output_type": "stream",
     "text": [
      "              ipw_mean  ipw_b_mean  impute_missing  impute_missing_w\n",
      "mean          0.828959    0.897344        0.998938          0.997530\n",
      "SD            0.179947    0.151429        0.077668          0.144599\n",
      "SE            0.002545    0.002142        0.001098          0.002045\n",
      "bias         -0.171681   -0.103295       -0.001702         -0.003110\n",
      "mean_abs_err  0.205642    0.146551        0.061670          0.113082\n",
      "RMS error     0.248707    0.183305        0.077686          0.144632\n",
      "Mean number of observed y values: 499.9532 with SD: \n"
     ]
    }
   ],
   "source": [
    "results = results_seavan1\n",
    "estimators_to_keep = [\"ipw_mean\", \"ipw_b_mean\", \"impute_missing\", \"impute_missing_w\"]\n",
    "a = results[estimators_to_keep].apply(eval_estimators, axis=0, raw=True, \n",
    "                                      result_type=\"expand\", true_val=seavan1_full_data_mean)\n",
    "results_eval = pd.DataFrame(a.to_dict())\n",
    "print(results_eval)\n",
    "print(f\"Mean number of observed y values: {np.mean(num_obs_list)} with SD: \")"
   ]
  },
  {
   "cell_type": "markdown",
   "metadata": {},
   "source": [
    "With impute_missing, we build a regression estimator for the missing values. The regression estimator has only 2 degrees of freedom and roughly sample_size/2 observations. This will lead to very low variance estimate of the regression model. However, more is reflected in SD than just that variance. In general, even with infinite data, the regression prediction may be wrong for certain x's because of model bias -- i.e. the true conditional distribution is not represented well in our class of models. These errors, while a consistent \"bias\" for individual x's, just look like noise when averaged across the x's. Thus this kind of error may also show up in the SD. If the errors for each x do not cancel out, on average, then we will end up with a bias. We will see this happening when we have data missing at random, with a model mismatch, and we don't propensity weight the training examples for the regession."
   ]
  },
  {
   "cell_type": "markdown",
   "metadata": {},
   "source": [
    "For the impute_missing_w estimator, we're using inverse propensity weighting in fitting the linear regression. We would expect this to potentially decrease the bias of the estimator at the expense of an increase in variance. However, this model has no bias because it perfectly matches the distribution. The bias doesn't seem much bigger than 0 (in terms of SE's), though the SD and RMSE is twice as large than the imputation estimator without IPW.\n",
    "\n",
    "For this particular distribution, imputing with a linear model works tremendously well. Both the SD and the bias, as well as our two error measures, are the lowest on the board. However, this is largely due to the fact that a linear model is a perfect fit for the data distribution. We'll now repeat this experiment with the modified dataset, in which the conditional mean of y is not a linear function of x. Now Y has mean 1 whether x=1.0 or 2.0, but has mean 0 for x=0.0."
   ]
  },
  {
   "cell_type": "code",
   "execution_count": 120,
   "metadata": {},
   "outputs": [
    {
     "data": {
      "application/vnd.jupyter.widget-view+json": {
       "model_id": "cddd676e6ba84f3db67d8f80cd4cc678",
       "version_major": 2,
       "version_minor": 0
      },
      "text/plain": [
       "Canvas(toolbar=Toolbar(toolitems=[('Home', 'Reset original view', 'home', 'home'), ('Back', 'Back to previous …"
      ]
     },
     "metadata": {},
     "output_type": "display_data"
    },
    {
     "data": {
      "application/vnd.jupyter.widget-view+json": {
       "model_id": "dbeaf4e165224d1a823f702a185dfc37",
       "version_major": 2,
       "version_minor": 0
      },
      "text/plain": [
       "Canvas(toolbar=Toolbar(toolitems=[('Home', 'Reset original view', 'home', 'home'), ('Back', 'Back to previous …"
      ]
     },
     "metadata": {},
     "output_type": "display_data"
    },
    {
     "name": "stdout",
     "output_type": "stream",
     "text": [
      "Mean of all y's from sample of size 10000000: 0.6673925215544576 \n"
     ]
    }
   ],
   "source": [
    "sigma = 1\n",
    "random_seed = 1000\n",
    "sample_size = 1000\n",
    "r = default_rng(random_seed)\n",
    "sampler = get_sampler(dist=\"SeaVan2\", sigma=sigma)\n",
    "d = sampler(sample_size)\n",
    "sns.jointplot(data=d, x=\"x\", y=\"y\", kind=\"reg\",x_jitter=.1, scatter_kws={\"s\": 1})\n",
    "sns.jointplot(data=d[d[\"obs\"]], x=\"x\", y=\"y\", kind=\"reg\",x_jitter=.1, scatter_kws={\"s\": 1})\n",
    "d_big = sampler(n=10000000)\n",
    "seavan2_full_data_mean = np.mean(d_big['y'])\n",
    "print(f\"Mean of all y's from sample of size {d_big.shape[0]}: {seavan2_full_data_mean} \")"
   ]
  },
  {
   "cell_type": "markdown",
   "metadata": {},
   "source": [
    "The first plot above is of the full dataset, while the second is from the observed portion of the dataset. An unweighted linear fit is given through each set of points. Note that the fit changes substantially when we leave out the missing data, as opposed to the first data distribution we examined. The hope is that by inverse propensity weighting the observed points in the linear fit, we can get a better approximation to the linear fit of the fully observed data.\n",
    "\n",
    "In the first scatter plot, we see that the best a linear fit can do with this nonlinear relation. The mismatch of the model to the data gives rise to a bias that we will call model bias. In the second scatter plot, which shows the data we actually observe, we see that the linear fit significantly overestimates the mean of y for x=2. Here the model bias is exacerbated by a sample bias. Here are the results for our various estimators on this dataset."
   ]
  },
  {
   "cell_type": "code",
   "execution_count": 123,
   "metadata": {},
   "outputs": [],
   "source": [
    "num_repeats = 1000  #use 5000 for better SEs\n",
    "random_seed = 1000\n",
    "rng = default_rng(random_seed)\n",
    "sampler = get_sampler(dist=\"SeaVan2\", sigma=sigma, rng = rng)\n",
    "data_list = []\n",
    "num_obs_list = []\n",
    "for i in range(num_repeats):\n",
    "    ## Randomly choose observations\n",
    "    d = sampler(n=sample_size)\n",
    "    est = get_mean_estimators(vals=d['y'],\n",
    "                              covar=d[[\"x\"]],\n",
    "                              propensities=d[\"obs_prob_pred\"],\n",
    "                              obs=d['obs'])\n",
    "    data_list.append(est)\n",
    "    num_obs_list.append(d['obs'].sum())\n",
    "results_seavan2 = pd.DataFrame(data_list)"
   ]
  },
  {
   "cell_type": "code",
   "execution_count": 124,
   "metadata": {},
   "outputs": [
    {
     "name": "stdout",
     "output_type": "stream",
     "text": [
      "              ipw_mean  ipw_b_mean  impute_missing  impute_missing_w\n",
      "mean          0.586963    0.636445        0.940288          0.692951\n",
      "SD            0.125457    0.119475        0.079358          0.141605\n",
      "SE            0.003967    0.003778        0.002510          0.004478\n",
      "bias         -0.080429   -0.030947        0.272896          0.025559\n",
      "mean_abs_err  0.121969    0.097684        0.272896          0.111968\n",
      "RMS error     0.149025    0.123418        0.284200          0.143893\n",
      "Mean number of observed y values: 500.023 with SD: \n"
     ]
    }
   ],
   "source": [
    "results = results_seavan2\n",
    "estimators_to_keep = [\"ipw_mean\", \"ipw_b_mean\", \"impute_missing\", \n",
    "                      \"impute_missing_w\"]\n",
    "a = results[estimators_to_keep].apply(eval_estimators, axis=0, \n",
    "                                      raw=True, result_type=\"expand\", true_val=seavan2_full_data_mean)\n",
    "results_eval = pd.DataFrame(a.to_dict())\n",
    "print(results_eval)\n",
    "print(f\"Mean number of observed y values: {np.mean(num_obs_list)} with SD: \")"
   ]
  },
  {
   "cell_type": "markdown",
   "metadata": {},
   "source": [
    "On this dataset, we see things according with our expectations: the bias of ipw_mean is indistinguishable from 0 (within 1 SE), but has the highest SD. ipw_b_mean has controlled the variance of ipw_mean to some extent, but at the cost of an increase in bias, which is significantly different from 0. Still, the SD is more than an order of magnitude larger than the bias, so the tradeoff is a good one. This is reflected in the improved mean_abs_error and RMS error.\n",
    "\n",
    "Meanwhile impute_missing has a very large bias. Because of the sample bias, in this case the very small sample probability when x=2, the linear fit is quite a bit off from the complete data case. On the other hand, the SD is low. This is because the model requires relatively small sample size for a stable fit.\n",
    "\n",
    "With impute_missing_w, where we inverse propensity weight the points, the sample bias is largely removed. However, the large weights on the relatively few number of points make the effective sample size much smaller. This inflates the SD. This tradeoff of getting a more variance for substantially less bias was a good one for impute_missing_w compared to impute_missing, as is reflected in their relative performance."
   ]
  },
  {
   "cell_type": "code",
   "execution_count": 125,
   "metadata": {},
   "outputs": [
    {
     "name": "stdout",
     "output_type": "stream",
     "text": [
      "              ipw_mean  ipw_b_mean  impute_missing  impute_missing_w  \\\n",
      "mean          0.586963    0.636445        0.940288          0.692951   \n",
      "SD            0.125457    0.119475        0.079358          0.141605   \n",
      "SE            0.003967    0.003778        0.002510          0.004478   \n",
      "bias         -0.080429   -0.030947        0.272896          0.025559   \n",
      "mean_abs_err  0.121969    0.097684        0.272896          0.111968   \n",
      "RMS error     0.149025    0.123418        0.284200          0.143893   \n",
      "\n",
      "              ipw_dr_1  ipw_dr_w_1  ipw_dr_opt  ipw_dr_w_opt  ipw_dr_b  \\\n",
      "mean          0.743039    0.692893    0.743039      0.692893  0.679070   \n",
      "SD            0.132958    0.141576    0.132958      0.141576  0.107079   \n",
      "SE            0.004205    0.004477    0.004205      0.004477  0.003386   \n",
      "bias          0.075647    0.025501    0.075647      0.025501  0.011678   \n",
      "mean_abs_err  0.122442    0.111963    0.122442      0.111963  0.084487   \n",
      "RMS error     0.152972    0.143854    0.152972      0.143854  0.107714   \n",
      "\n",
      "              ipw_dr_w_b  \n",
      "mean            0.635356  \n",
      "SD              0.126642  \n",
      "SE              0.004005  \n",
      "bias           -0.032036  \n",
      "mean_abs_err    0.102571  \n",
      "RMS error       0.130631  \n",
      "Mean number of observed y values: 500.023 with SD: \n"
     ]
    }
   ],
   "source": [
    "results = results_seavan2\n",
    "estimators_to_keep = [\"ipw_mean\", \"ipw_b_mean\", \"impute_missing\", \n",
    "                      \"impute_missing_w\", \"ipw_dr_1\", \"ipw_dr_w_1\", \"ipw_dr_opt\", \"ipw_dr_w_opt\",\n",
    "                      \"ipw_dr_b\", \"ipw_dr_w_b\",]\n",
    "a = results[estimators_to_keep].apply(eval_estimators, axis=0, \n",
    "                                      raw=True, result_type=\"expand\", true_val=seavan2_full_data_mean)\n",
    "results_eval = pd.DataFrame(a.to_dict())\n",
    "print(results_eval)\n",
    "print(f\"Mean number of observed y values: {np.mean(num_obs_list)} with SD: \")"
   ]
  },
  {
   "cell_type": "markdown",
   "metadata": {},
   "source": [
    "Let's consider the specific case in the paper, Examble 1(b), with sigma = 1 and n=100,000. In the paper, they also make a little logistic regression model to estimate the propensity score (i.e. the probability of getting na observation, conditioned on x). Here we assume propensities are known, which is why our variances are smaller for the IPW estimators."
   ]
  },
  {
   "cell_type": "code",
   "execution_count": 126,
   "metadata": {},
   "outputs": [],
   "source": [
    "num_repeats = 1000  #use 5000 for better SEs\n",
    "random_seed = 1000\n",
    "rng = default_rng(random_seed)\n",
    "sampler = get_sampler(dist=\"SeaVanMod2\", sigma=sigma, rng = rng)\n",
    "data_list = []\n",
    "num_obs_list = []\n",
    "for i in range(num_repeats):\n",
    "    ## Randomly choose observations\n",
    "    d = sampler(n=sample_size)\n",
    "    est = get_mean_estimators(vals=d['y'],\n",
    "                              covar=d[[\"x\"]],\n",
    "                              propensities=d[\"obs_prob_pred\"],\n",
    "                              obs=d['obs'])\n",
    "    data_list.append(est)\n",
    "    num_obs_list.append(d['obs'].sum())\n",
    "results_seavanMod2 = pd.DataFrame(data_list)"
   ]
  },
  {
   "cell_type": "code",
   "execution_count": 127,
   "metadata": {},
   "outputs": [
    {
     "name": "stdout",
     "output_type": "stream",
     "text": [
      "Mean of all y's from sample of size 10000000: 1.6676854683793805 \n"
     ]
    }
   ],
   "source": [
    "d_big = sampler(n=10000000)\n",
    "seavanmod2_full_data_mean = np.mean(d_big['y'])\n",
    "print(f\"Mean of all y's from sample of size {d_big.shape[0]}: {seavanmod2_full_data_mean} \")"
   ]
  },
  {
   "cell_type": "code",
   "execution_count": 128,
   "metadata": {},
   "outputs": [
    {
     "data": {
      "application/vnd.jupyter.widget-view+json": {
       "model_id": "119bd41f7261417b81fb47cde5f46624",
       "version_major": 2,
       "version_minor": 0
      },
      "text/plain": [
       "Canvas(toolbar=Toolbar(toolitems=[('Home', 'Reset original view', 'home', 'home'), ('Back', 'Back to previous …"
      ]
     },
     "metadata": {},
     "output_type": "display_data"
    },
    {
     "data": {
      "application/vnd.jupyter.widget-view+json": {
       "model_id": "5cd6f3c4192f4b0da9b619ad134cc3c4",
       "version_major": 2,
       "version_minor": 0
      },
      "text/plain": [
       "Canvas(toolbar=Toolbar(toolitems=[('Home', 'Reset original view', 'home', 'home'), ('Back', 'Back to previous …"
      ]
     },
     "metadata": {},
     "output_type": "display_data"
    },
    {
     "data": {
      "text/plain": [
       "<seaborn.axisgrid.JointGrid at 0x1bc8478e970>"
      ]
     },
     "execution_count": 128,
     "metadata": {},
     "output_type": "execute_result"
    }
   ],
   "source": [
    "sns.jointplot(data=d, x=\"x\", y=\"y\", kind=\"reg\",x_jitter=.1, scatter_kws={\"s\": 1})\n",
    "sns.jointplot(data=d[d[\"obs\"]], x=\"x\", y=\"y\", kind=\"reg\",x_jitter=.1, scatter_kws={\"s\": 1})"
   ]
  },
  {
   "cell_type": "code",
   "execution_count": 129,
   "metadata": {},
   "outputs": [
    {
     "name": "stdout",
     "output_type": "stream",
     "text": [
      "              ipw_mean  ipw_b_mean  impute_missing  impute_missing_w\n",
      "mean          1.340515    1.443464        1.125976          1.626516\n",
      "SD            0.295947    0.235740        0.092203          0.157587\n",
      "SE            0.009359    0.007455        0.002916          0.004983\n",
      "bias         -0.327170   -0.224222       -0.541709         -0.041169\n",
      "mean_abs_err  0.366312    0.262279        0.541709          0.127758\n",
      "RMS error     0.441163    0.325344        0.549500          0.162876\n",
      "Mean number of observed y values: 500.023 with SD: \n"
     ]
    }
   ],
   "source": [
    "results = results_seavanMod2\n",
    "estimators_to_keep = [\"ipw_mean\", \"ipw_b_mean\", \"impute_missing\", \n",
    "                      \"impute_missing_w\"]\n",
    "a = results[estimators_to_keep].apply(eval_estimators, axis=0, \n",
    "                                      raw=True, result_type=\"expand\", true_val=seavanmod2_full_data_mean)\n",
    "results_eval = pd.DataFrame(a.to_dict())\n",
    "print(results_eval)\n",
    "print(f\"Mean number of observed y values: {np.mean(num_obs_list)} with SD: \")"
   ]
  },
  {
   "cell_type": "code",
   "execution_count": 131,
   "metadata": {},
   "outputs": [
    {
     "name": "stdout",
     "output_type": "stream",
     "text": [
      "Mean of all y's from sample of size 10000000: 3.002234668379598 \n"
     ]
    }
   ],
   "source": [
    "num_repeats = 1000  #use 5000 for better SEs\n",
    "random_seed = 1000\n",
    "sigma = 1\n",
    "obs_prob = 0.1\n",
    "rng = default_rng(random_seed)\n",
    "sampler = get_sampler(dist=\"MCAR_normal_sqr\", sigma=sigma, obs_prob=obs_prob, rng = rng)\n",
    "data_list = []\n",
    "num_obs_list = []\n",
    "for i in range(num_repeats):\n",
    "    ## Randomly choose observations\n",
    "    d = sampler(n=sample_size)\n",
    "    est = get_mean_estimators(vals=d['y'],\n",
    "                              covar=d[[\"x\"]],\n",
    "                              propensities=d[\"obs_prob_pred\"],\n",
    "                              obs=d['obs'])\n",
    "    data_list.append(est)\n",
    "    num_obs_list.append(d['obs'].sum())\n",
    "results_MCAR_normal_sqr = pd.DataFrame(data_list)\n",
    "d_big = sampler(n=10000000)\n",
    "MCAR_normal_sqr_full_data_mean = np.mean(d_big['y'])\n",
    "print(f\"Mean of all y's from sample of size {d_big.shape[0]}: {MCAR_normal_sqr_full_data_mean} \")"
   ]
  },
  {
   "cell_type": "code",
   "execution_count": 132,
   "metadata": {},
   "outputs": [
    {
     "name": "stdout",
     "output_type": "stream",
     "text": [
      "              ipw_mean  ipw_b_mean  impute_missing\n",
      "mean          2.997494    2.997883        2.993700\n",
      "SD            0.197088    0.196488        0.196990\n",
      "SE            0.006232    0.006213        0.006229\n",
      "bias         -0.004741   -0.004352       -0.008535\n",
      "mean_abs_err  0.157111    0.156575        0.157176\n",
      "RMS error     0.197145    0.196536        0.197175\n",
      "Mean number of observed y values: 99.758 with SD: \n"
     ]
    }
   ],
   "source": [
    "results = results_MCAR_normal_sqr\n",
    "estimators_to_keep = [\"ipw_mean\", \"ipw_b_mean\", \"impute_missing\"]\n",
    "a = results[estimators_to_keep].apply(eval_estimators, axis=0, \n",
    "                                      raw=True, result_type=\"expand\", true_val=MCAR_normal_sqr_full_data_mean)\n",
    "results_eval = pd.DataFrame(a.to_dict())\n",
    "print(results_eval)\n",
    "print(f\"Mean number of observed y values: {np.mean(num_obs_list)} with SD: \")"
   ]
  },
  {
   "cell_type": "code",
   "execution_count": 133,
   "metadata": {},
   "outputs": [
    {
     "data": {
      "application/vnd.jupyter.widget-view+json": {
       "model_id": "3904f47dc6d7408fa66676cbffeb8273",
       "version_major": 2,
       "version_minor": 0
      },
      "text/plain": [
       "Canvas(toolbar=Toolbar(toolitems=[('Home', 'Reset original view', 'home', 'home'), ('Back', 'Back to previous …"
      ]
     },
     "metadata": {},
     "output_type": "display_data"
    },
    {
     "data": {
      "text/plain": [
       "<seaborn.axisgrid.JointGrid at 0x1bc84643040>"
      ]
     },
     "execution_count": 133,
     "metadata": {},
     "output_type": "execute_result"
    }
   ],
   "source": [
    "sns.jointplot(data=d, x=\"x\", y=\"y\", kind=\"reg\",x_jitter=.1, scatter_kws={\"s\": 1})"
   ]
  },
  {
   "cell_type": "code",
   "execution_count": null,
   "metadata": {},
   "outputs": [],
   "source": []
  }
 ],
 "metadata": {
  "kernelspec": {
   "display_name": "Python 3",
   "language": "python",
   "name": "python3"
  },
  "language_info": {
   "codemirror_mode": {
    "name": "ipython",
    "version": 3
   },
   "file_extension": ".py",
   "mimetype": "text/x-python",
   "name": "python",
   "nbconvert_exporter": "python",
   "pygments_lexer": "ipython3",
   "version": "3.8.3"
  }
 },
 "nbformat": 4,
 "nbformat_minor": 4
}
